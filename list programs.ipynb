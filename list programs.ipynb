{
 "cells": [
  {
   "cell_type": "code",
   "execution_count": 1,
   "id": "f2071ea6",
   "metadata": {},
   "outputs": [
    {
     "name": "stdout",
     "output_type": "stream",
     "text": [
      "enter 5 integers\n",
      "9\n",
      "5\n",
      "8\n",
      "8\n",
      "8\n",
      "the given list is  [9, 5, 8, 8, 8]\n",
      "factorial of the list is  [362880, 120, 40320, 40320, 40320]\n"
     ]
    }
   ],
   "source": [
    "def factorial(i):\n",
    "    fact=1\n",
    "    for j in range(1,i+1):\n",
    "        fact*=j\n",
    "    return fact\n",
    "print(\"enter 5 integers\")\n",
    "a=[int(input()) for i in range(5)]\n",
    "f=[factorial(i) for i in a]\n",
    "print(\"the given list is \",a)\n",
    "print(\"factorial of the list is \",f)"
   ]
  },
  {
   "cell_type": "code",
   "execution_count": null,
   "id": "fddc6802",
   "metadata": {},
   "outputs": [],
   "source": []
  }
 ],
 "metadata": {
  "kernelspec": {
   "display_name": "Python 3 (ipykernel)",
   "language": "python",
   "name": "python3"
  },
  "language_info": {
   "codemirror_mode": {
    "name": "ipython",
    "version": 3
   },
   "file_extension": ".py",
   "mimetype": "text/x-python",
   "name": "python",
   "nbconvert_exporter": "python",
   "pygments_lexer": "ipython3",
   "version": "3.11.3"
  }
 },
 "nbformat": 4,
 "nbformat_minor": 5
}
